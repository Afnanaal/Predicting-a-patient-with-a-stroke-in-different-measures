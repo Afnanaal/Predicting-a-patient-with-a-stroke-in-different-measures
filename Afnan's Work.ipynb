{
 "cells": [
  {
   "cell_type": "markdown",
   "id": "0c38127d",
   "metadata": {},
   "source": [
    "#           Assignment prepared by Afnan : Predicting a patient with a stroke in different measures "
   ]
  },
  {
   "cell_type": "code",
   "execution_count": 34,
   "id": "824f5727",
   "metadata": {},
   "outputs": [],
   "source": [
    "\n",
    "#step1: importing lib.\n",
    "from sklearn.metrics import accuracy_score\n",
    "from sklearn.model_selection import train_test_split\n",
    "from sklearn.tree import DecisionTreeClassifier\n",
    "from sklearn.ensemble import RandomForestClassifier\n",
    "from sklearn.metrics import ConfusionMatrixDisplay\n",
    "from sklearn.metrics import confusion_matrix\n",
    "import numpy as np\n",
    "import pandas as pd\n",
    "from sklearn import tree\n",
    "from matplotlib import pyplot as plt\n",
    "from sklearn.metrics import classification_report\n",
    "from sklearn.model_selection import cross_val_score\n",
    "from sklearn.metrics import classification_report, accuracy_score, make_scorer\n",
    "from sklearn.linear_model import Perceptron\n",
    "from sklearn.naive_bayes import GaussianNB\n"
   ]
  },
  {
   "cell_type": "markdown",
   "id": "d7794905",
   "metadata": {},
   "source": [
    "## Experiment 1 : Apply all classification model on the dataset "
   ]
  },
  {
   "cell_type": "markdown",
   "id": "2c6a7bdd",
   "metadata": {},
   "source": [
    "## DTs"
   ]
  },
  {
   "cell_type": "code",
   "execution_count": 36,
   "id": "cc3f0d1c",
   "metadata": {},
   "outputs": [
    {
     "name": "stdout",
     "output_type": "stream",
     "text": [
      "      id  gender   age  hypertension  heart_disease ever_married  \\\n",
      "0   9046    Male  67.0             0              1          Yes   \n",
      "1  51676  Female  61.0             0              0          Yes   \n",
      "2  31112    Male  80.0             0              1          Yes   \n",
      "3  60182  Female  49.0             0              0          Yes   \n",
      "4   1665  Female  79.0             1              0          Yes   \n",
      "\n",
      "       work_type Residence_type  avg_glucose_level   bmi   smoking_status  \\\n",
      "0        Private          Urban             228.69  36.6  formerly smoked   \n",
      "1  Self-employed          Rural             202.21   NaN     never smoked   \n",
      "2        Private          Rural             105.92  32.5     never smoked   \n",
      "3        Private          Urban             171.23  34.4           smokes   \n",
      "4  Self-employed          Rural             174.12  24.0     never smoked   \n",
      "\n",
      "   stroke  \n",
      "0       1  \n",
      "1       1  \n",
      "2       1  \n",
      "3       1  \n",
      "4       1  \n",
      "<class 'pandas.core.frame.DataFrame'>\n",
      "RangeIndex: 5110 entries, 0 to 5109\n",
      "Data columns (total 12 columns):\n",
      " #   Column             Non-Null Count  Dtype  \n",
      "---  ------             --------------  -----  \n",
      " 0   id                 5110 non-null   int64  \n",
      " 1   gender             5110 non-null   object \n",
      " 2   age                5110 non-null   float64\n",
      " 3   hypertension       5110 non-null   int64  \n",
      " 4   heart_disease      5110 non-null   int64  \n",
      " 5   ever_married       5110 non-null   object \n",
      " 6   work_type          5110 non-null   object \n",
      " 7   Residence_type     5110 non-null   object \n",
      " 8   avg_glucose_level  5110 non-null   float64\n",
      " 9   bmi                4909 non-null   float64\n",
      " 10  smoking_status     5110 non-null   object \n",
      " 11  stroke             5110 non-null   int64  \n",
      "dtypes: float64(3), int64(4), object(5)\n",
      "memory usage: 379.3+ KB\n",
      "None\n"
     ]
    }
   ],
   "source": [
    "# reading the dataset\n",
    "df = pd.read_csv(\"./healthcare-dataset-stroke-data.csv\")\n",
    "#The goal of this database is to predict a patient is likely to get stroke based on the information about the patient\n",
    "#look at top 5 rows in data set\n",
    "print(df.head())\n",
    "#get the info and see if there are nan values\n",
    "print(df.info())\n",
    "\n"
   ]
  },
  {
   "cell_type": "code",
   "execution_count": 37,
   "id": "e98f4ff6",
   "metadata": {},
   "outputs": [],
   "source": [
    "# convert text to category\n",
    "df['gender']=df['gender'].astype('category').cat.codes\n",
    "df[\"ever_married\"]=df[\"ever_married\"].astype('category').cat.codes\n",
    "df[\"work_type\"]=df[\"work_type\"].astype('category').cat.codes\n",
    "df[\"Residence_type\"]=df[\"Residence_type\"].astype('category').cat.codes\n",
    "df[\"smoking_status\"]=df[\"smoking_status\"].astype('category').cat.codes"
   ]
  },
  {
   "cell_type": "code",
   "execution_count": 38,
   "id": "bfe51554",
   "metadata": {},
   "outputs": [
    {
     "name": "stdout",
     "output_type": "stream",
     "text": [
      "      id  gender   age  hypertension  heart_disease  ever_married  work_type  \\\n",
      "0   9046       1  67.0             0              1             1          2   \n",
      "2  31112       1  80.0             0              1             1          2   \n",
      "3  60182       0  49.0             0              0             1          2   \n",
      "4   1665       0  79.0             1              0             1          3   \n",
      "5  56669       1  81.0             0              0             1          2   \n",
      "\n",
      "   Residence_type  avg_glucose_level   bmi  smoking_status  stroke  \n",
      "0               1             228.69  36.6               1       1  \n",
      "2               0             105.92  32.5               2       1  \n",
      "3               1             171.23  34.4               3       1  \n",
      "4               0             174.12  24.0               2       1  \n",
      "5               1             186.21  29.0               1       1  \n",
      "<class 'pandas.core.frame.DataFrame'>\n",
      "Int64Index: 4909 entries, 0 to 5109\n",
      "Data columns (total 12 columns):\n",
      " #   Column             Non-Null Count  Dtype  \n",
      "---  ------             --------------  -----  \n",
      " 0   id                 4909 non-null   int64  \n",
      " 1   gender             4909 non-null   int8   \n",
      " 2   age                4909 non-null   float64\n",
      " 3   hypertension       4909 non-null   int64  \n",
      " 4   heart_disease      4909 non-null   int64  \n",
      " 5   ever_married       4909 non-null   int8   \n",
      " 6   work_type          4909 non-null   int8   \n",
      " 7   Residence_type     4909 non-null   int8   \n",
      " 8   avg_glucose_level  4909 non-null   float64\n",
      " 9   bmi                4909 non-null   float64\n",
      " 10  smoking_status     4909 non-null   int8   \n",
      " 11  stroke             4909 non-null   int64  \n",
      "dtypes: float64(3), int64(4), int8(5)\n",
      "memory usage: 330.8 KB\n",
      "None\n"
     ]
    }
   ],
   "source": [
    "# drop NaN value\n",
    "df=df.dropna()\n",
    "\n",
    "print(df.head())\n",
    "\n",
    "\n",
    "print(df.info())"
   ]
  },
  {
   "cell_type": "code",
   "execution_count": 39,
   "id": "7535c2a0",
   "metadata": {},
   "outputs": [],
   "source": [
    "# Deleting the unimportant feature during the prediction process\n",
    "df=df.drop([\"id\"],axis=1)\n",
    "# get x values which is all colms except the stork col.\n",
    "x= df.drop([\"stroke\"],axis=1)\n",
    "\n",
    "# get y\n",
    "y = df.iloc[:,10].values\n",
    "\n",
    "# Splitting the data into two (training and test)\n",
    "X_train, X_test, y_train, y_test = train_test_split(x, y, test_size=0.2, random_state=42)\n"
   ]
  },
  {
   "cell_type": "code",
   "execution_count": 40,
   "id": "172ed38a",
   "metadata": {},
   "outputs": [
    {
     "name": "stdout",
     "output_type": "stream",
     "text": [
      "0.9114052953156823\n"
     ]
    }
   ],
   "source": [
    "\n",
    "#  create DT model\n",
    "clf = DecisionTreeClassifier(criterion=\"entropy\")  # max_depth\n",
    "\n",
    "# Fit a Decision Tree model\n",
    "clf.fit(X_train, y_train)\n",
    "# predict for test\n",
    "y_pred = clf.predict(X_test)\n",
    "\n",
    "\n",
    "print(accuracy_score(y_test, y_pred))\n"
   ]
  },
  {
   "cell_type": "code",
   "execution_count": 41,
   "id": "8d9267ea",
   "metadata": {},
   "outputs": [
    {
     "data": {
      "image/png": "[encoded data removed]",
      "text/plain": [
       "<Figure size 432x288 with 2 Axes>"
      ]
     },
     "metadata": {
      "needs_background": "light"
     },
     "output_type": "display_data"
    }
   ],
   "source": [
    "\n",
    " cm = confusion_matrix(y_test, y_pred, labels=np.unique(y_test) )\n",
    " disp = ConfusionMatrixDisplay(confusion_matrix=cm,display_labels=np.unique(y_test))\n",
    "\n",
    " disp.plot()\n",
    " plt.show()\n"
   ]
  },
  {
   "cell_type": "code",
   "execution_count": 42,
   "id": "386af306",
   "metadata": {},
   "outputs": [
    {
     "name": "stdout",
     "output_type": "stream",
     "text": [
      "=============test report================\n",
      "              precision    recall  f1-score   support\n",
      "\n",
      "           0       0.95      0.96      0.95       929\n",
      "           1       0.11      0.09      0.10        53\n",
      "\n",
      "    accuracy                           0.91       982\n",
      "   macro avg       0.53      0.53      0.53       982\n",
      "weighted avg       0.90      0.91      0.91       982\n",
      "\n",
      "=============train report===============\n",
      "              precision    recall  f1-score   support\n",
      "\n",
      "           0       1.00      1.00      1.00      3771\n",
      "           1       1.00      1.00      1.00       156\n",
      "\n",
      "    accuracy                           1.00      3927\n",
      "   macro avg       1.00      1.00      1.00      3927\n",
      "weighted avg       1.00      1.00      1.00      3927\n",
      "\n"
     ]
    }
   ],
   "source": [
    "\n",
    "# print precision    recall  f1-score accuracy\n",
    "print(\"=============test report================\")\n",
    "test_report=classification_report(y_test,y_pred)\n",
    "print(test_report)\n",
    "print(\"=============train report===============\")\n",
    "y_pred = clf.predict(X_train)\n",
    "test_report=classification_report(y_train,y_pred)\n",
    "print(test_report)\n"
   ]
  },
  {
   "cell_type": "markdown",
   "id": "a9266300",
   "metadata": {},
   "source": [
    "## Random forest"
   ]
  },
  {
   "cell_type": "code",
   "execution_count": 45,
   "id": "72e03618",
   "metadata": {},
   "outputs": [],
   "source": [
    "\n",
    "# create Rnadom forest \n",
    "clf = RandomForestClassifier(n_estimators=8, random_state=0) #n_estimators int, default=100 The number of trees in the fore st.\n"
   ]
  },
  {
   "cell_type": "code",
   "execution_count": 46,
   "id": "71c2e0cf",
   "metadata": {},
   "outputs": [],
   "source": [
    "# fit\n",
    "clf.fit(X_train, y_train)\n",
    "# predict test split\n",
    "y_pred = clf.predict(X_test)\n"
   ]
  },
  {
   "cell_type": "code",
   "execution_count": 47,
   "id": "1865dfc4",
   "metadata": {},
   "outputs": [
    {
     "data": {
      "image/png": "[encoded data removed]",
      "text/plain": [
       "<Figure size 432x288 with 2 Axes>"
      ]
     },
     "metadata": {
      "needs_background": "light"
     },
     "output_type": "display_data"
    }
   ],
   "source": [
    " cm = confusion_matrix(y_test, y_pred, labels=np.unique(y_test) )\n",
    " disp = ConfusionMatrixDisplay(confusion_matrix=cm,display_labels=np.unique(y_test))\n",
    "\n",
    " disp.plot()\n",
    " plt.show()\n"
   ]
  },
  {
   "cell_type": "code",
   "execution_count": 48,
   "id": "10594424",
   "metadata": {},
   "outputs": [
    {
     "name": "stdout",
     "output_type": "stream",
     "text": [
      "=============test report================\n",
      "              precision    recall  f1-score   support\n",
      "\n",
      "           0       0.95      1.00      0.97       929\n",
      "           1       0.67      0.04      0.07        53\n",
      "\n",
      "    accuracy                           0.95       982\n",
      "   macro avg       0.81      0.52      0.52       982\n",
      "weighted avg       0.93      0.95      0.92       982\n",
      "\n",
      "=============train report===============\n",
      "              precision    recall  f1-score   support\n",
      "\n",
      "           0       0.99      1.00      0.99      3771\n",
      "           1       1.00      0.72      0.84       156\n",
      "\n",
      "    accuracy                           0.99      3927\n",
      "   macro avg       0.99      0.86      0.92      3927\n",
      "weighted avg       0.99      0.99      0.99      3927\n",
      "\n"
     ]
    }
   ],
   "source": [
    "# print precision    recall  f1-score accuracy\n",
    "print(\"=============test report================\")\n",
    "test_report=classification_report(y_test,y_pred)\n",
    "print(test_report)\n",
    "print(\"=============train report===============\")\n",
    "y_pred = clf.predict(X_train)\n",
    "test_report=classification_report(y_train,y_pred)\n",
    "print(test_report)\n",
    "\n"
   ]
  },
  {
   "cell_type": "markdown",
   "id": "6ff44099",
   "metadata": {},
   "source": [
    "## perceptron"
   ]
  },
  {
   "cell_type": "code",
   "execution_count": 50,
   "id": "83ed0087",
   "metadata": {},
   "outputs": [],
   "source": [
    "# crete Perceptron\n",
    "clf = Perceptron()\n",
    "\n",
    "# fit the data\n",
    "clf.fit(X_train, y_train)\n",
    "#predict\n",
    "y_pred = clf.predict(X_test)\n",
    "\n"
   ]
  },
  {
   "cell_type": "code",
   "execution_count": 51,
   "id": "2e202c28",
   "metadata": {},
   "outputs": [
    {
     "data": {
      "image/png": "[encoded data removed]",
      "text/plain": [
       "<Figure size 432x288 with 2 Axes>"
      ]
     },
     "metadata": {
      "needs_background": "light"
     },
     "output_type": "display_data"
    }
   ],
   "source": [
    " cm = confusion_matrix(y_test, y_pred, labels=np.unique(y_test) )\n",
    " disp = ConfusionMatrixDisplay(confusion_matrix=cm,display_labels=np.unique(y_test))\n",
    "\n",
    " disp.plot()\n",
    " plt.show()\n"
   ]
  },
  {
   "cell_type": "code",
   "execution_count": 52,
   "id": "46ef1ddc",
   "metadata": {},
   "outputs": [
    {
     "name": "stdout",
     "output_type": "stream",
     "text": [
      "=============test report================\n",
      "              precision    recall  f1-score   support\n",
      "\n",
      "           0       0.95      1.00      0.97       929\n",
      "           1       0.33      0.02      0.04        53\n",
      "\n",
      "    accuracy                           0.95       982\n",
      "   macro avg       0.64      0.51      0.50       982\n",
      "weighted avg       0.91      0.95      0.92       982\n",
      "\n",
      "=============train report===============\n",
      "              precision    recall  f1-score   support\n",
      "\n",
      "           0       0.96      1.00      0.98      3771\n",
      "           1       0.12      0.01      0.02       156\n",
      "\n",
      "    accuracy                           0.96      3927\n",
      "   macro avg       0.54      0.50      0.50      3927\n",
      "weighted avg       0.93      0.96      0.94      3927\n",
      "\n"
     ]
    }
   ],
   "source": [
    "#  print precision    recall  f1-score accuracy\n",
    "print(\"=============test report================\")\n",
    "test_report=classification_report(y_test,y_pred)\n",
    "print(test_report)\n",
    "print(\"=============train report===============\")\n",
    "y_pred = clf.predict(X_train)\n",
    "test_report=classification_report(y_train,y_pred)\n",
    "print(test_report)\n"
   ]
  },
  {
   "cell_type": "markdown",
   "id": "a528bd22",
   "metadata": {},
   "source": [
    "## NB"
   ]
  },
  {
   "cell_type": "code",
   "execution_count": 54,
   "id": "5e582668",
   "metadata": {},
   "outputs": [
    {
     "data": {
      "text/plain": [
       "0.8767820773930753"
      ]
     },
     "execution_count": 54,
     "metadata": {},
     "output_type": "execute_result"
    }
   ],
   "source": [
    "# NB\n",
    "model = GaussianNB()\n",
    "\n",
    "# fit \n",
    "model.fit(X_train, y_train)\n",
    "\n",
    "# predict\n",
    "y_pred = model.predict(X_test)\n",
    "accuracy_score(y_test, y_pred)\n",
    "\n"
   ]
  },
  {
   "cell_type": "code",
   "execution_count": 55,
   "id": "5932395c",
   "metadata": {},
   "outputs": [
    {
     "data": {
      "image/png": "[encoded data removed]",
      "text/plain": [
       "<Figure size 432x288 with 2 Axes>"
      ]
     },
     "metadata": {
      "needs_background": "light"
     },
     "output_type": "display_data"
    }
   ],
   "source": [
    " cm = confusion_matrix(y_test, y_pred, labels=np.unique(y_test) )\n",
    " disp = ConfusionMatrixDisplay(confusion_matrix=cm,display_labels=np.unique(y_test))\n",
    "\n",
    " disp.plot()\n",
    " plt.show()\n"
   ]
  },
  {
   "cell_type": "code",
   "execution_count": 56,
   "id": "7193667f",
   "metadata": {},
   "outputs": [
    {
     "name": "stdout",
     "output_type": "stream",
     "text": [
      "=============test report================\n",
      "              precision    recall  f1-score   support\n",
      "\n",
      "           0       0.96      0.90      0.93       929\n",
      "           1       0.20      0.42      0.27        53\n",
      "\n",
      "    accuracy                           0.88       982\n",
      "   macro avg       0.58      0.66      0.60       982\n",
      "weighted avg       0.92      0.88      0.90       982\n",
      "\n",
      "=============train report===============\n",
      "              precision    recall  f1-score   support\n",
      "\n",
      "           0       0.97      0.89      0.93      3771\n",
      "           1       0.13      0.41      0.20       156\n",
      "\n",
      "    accuracy                           0.87      3927\n",
      "   macro avg       0.55      0.65      0.57      3927\n",
      "weighted avg       0.94      0.87      0.90      3927\n",
      "\n"
     ]
    }
   ],
   "source": [
    " # print precision    recall  f1-score accuracy\n",
    "print(\"=============test report================\")\n",
    "test_report=classification_report(y_test,y_pred)\n",
    "print(test_report)\n",
    "print(\"=============train report===============\")\n",
    "y_pred = model.predict(X_train)\n",
    "test_report=classification_report(y_train,y_pred)\n",
    "print(test_report)\n",
    "\n"
   ]
  }
 ],
 "metadata": {
  "kernelspec": {
   "display_name": "Python 3 (ipykernel)",
   "language": "python",
   "name": "python3"
  },
  "language_info": {
   "codemirror_mode": {
    "name": "ipython",
    "version": 3
   },
   "file_extension": ".py",
   "mimetype": "text/x-python",
   "name": "python",
   "nbconvert_exporter": "python",
   "pygments_lexer": "ipython3",
   "version": "3.9.7"
  }
 },
 "nbformat": 4,
 "nbformat_minor": 5
}
